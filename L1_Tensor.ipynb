{
  "nbformat": 4,
  "nbformat_minor": 0,
  "metadata": {
    "colab": {
      "provenance": []
    },
    "kernelspec": {
      "name": "python3",
      "display_name": "Python 3"
    },
    "language_info": {
      "name": "python"
    }
  },
  "cells": [
    {
      "cell_type": "code",
      "execution_count": 1,
      "metadata": {
        "id": "2RXAR4wAOw9S"
      },
      "outputs": [],
      "source": [
        "import numpy as np"
      ]
    },
    {
      "cell_type": "markdown",
      "source": [
        "# Create 0D Tensor"
      ],
      "metadata": {
        "id": "5diE-BpvPQhG"
      }
    },
    {
      "cell_type": "code",
      "source": [
        "a = np.array(6)"
      ],
      "metadata": {
        "id": "qCg1xu6XO7QK"
      },
      "execution_count": 3,
      "outputs": []
    },
    {
      "cell_type": "code",
      "source": [
        "a"
      ],
      "metadata": {
        "colab": {
          "base_uri": "https://localhost:8080/"
        },
        "id": "8zNnaagCO_rM",
        "outputId": "e767a09e-7d4d-4507-b923-2b5903a65378"
      },
      "execution_count": 4,
      "outputs": [
        {
          "output_type": "execute_result",
          "data": {
            "text/plain": [
              "array(6)"
            ]
          },
          "metadata": {},
          "execution_count": 4
        }
      ]
    },
    {
      "cell_type": "markdown",
      "source": [
        "# Check it dimentation"
      ],
      "metadata": {
        "id": "xYbhbMoxPVY-"
      }
    },
    {
      "cell_type": "code",
      "source": [
        "a.ndim"
      ],
      "metadata": {
        "colab": {
          "base_uri": "https://localhost:8080/"
        },
        "id": "cUsLgWsEPEaF",
        "outputId": "1cc479cd-2a0a-4204-f2fb-ba4bd7929d5f"
      },
      "execution_count": 5,
      "outputs": [
        {
          "output_type": "execute_result",
          "data": {
            "text/plain": [
              "0"
            ]
          },
          "metadata": {},
          "execution_count": 5
        }
      ]
    },
    {
      "cell_type": "markdown",
      "source": [
        "# Create 1D Tensor/Vector/1D Array"
      ],
      "metadata": {
        "id": "NFPYjYoGPn7_"
      }
    },
    {
      "cell_type": "code",
      "source": [
        "arr = np.array([1,2,3,4])"
      ],
      "metadata": {
        "id": "94n5AdzpPdbG"
      },
      "execution_count": 6,
      "outputs": []
    },
    {
      "cell_type": "code",
      "source": [
        "arr"
      ],
      "metadata": {
        "colab": {
          "base_uri": "https://localhost:8080/"
        },
        "id": "oXvfN093P9yY",
        "outputId": "3048f1fa-c270-4e49-c29d-4aafe3976f2b"
      },
      "execution_count": 7,
      "outputs": [
        {
          "output_type": "execute_result",
          "data": {
            "text/plain": [
              "array([1, 2, 3, 4])"
            ]
          },
          "metadata": {},
          "execution_count": 7
        }
      ]
    },
    {
      "cell_type": "markdown",
      "source": [
        "# Check dimentation"
      ],
      "metadata": {
        "id": "0_qsxagLQJvS"
      }
    },
    {
      "cell_type": "code",
      "source": [
        "arr.ndim"
      ],
      "metadata": {
        "colab": {
          "base_uri": "https://localhost:8080/"
        },
        "id": "yB2eZ1JYP-03",
        "outputId": "d78ddfb3-86fe-4bd0-dbb7-2dfd4fbc3be6"
      },
      "execution_count": 8,
      "outputs": [
        {
          "output_type": "execute_result",
          "data": {
            "text/plain": [
              "1"
            ]
          },
          "metadata": {},
          "execution_count": 8
        }
      ]
    },
    {
      "cell_type": "markdown",
      "source": [
        "# Create 2D Tensor/Vector/2D Array"
      ],
      "metadata": {
        "id": "kKlyfZmLQf8w"
      }
    },
    {
      "cell_type": "code",
      "source": [
        "mat = np.array([[1,2,3],[4,5,6],[7,8,9]])"
      ],
      "metadata": {
        "id": "IVjp3PFDQCHK"
      },
      "execution_count": 14,
      "outputs": []
    },
    {
      "cell_type": "code",
      "source": [
        "mat"
      ],
      "metadata": {
        "colab": {
          "base_uri": "https://localhost:8080/"
        },
        "id": "qDYmfl2GQ3i0",
        "outputId": "394cd2c1-9ea9-45f6-db82-397bbf3b5096"
      },
      "execution_count": 11,
      "outputs": [
        {
          "output_type": "execute_result",
          "data": {
            "text/plain": [
              "array([[1, 2, 3],\n",
              "       [4, 5, 6],\n",
              "       [7, 8, 9]])"
            ]
          },
          "metadata": {},
          "execution_count": 11
        }
      ]
    },
    {
      "cell_type": "markdown",
      "source": [
        "# Check Dimentation"
      ],
      "metadata": {
        "id": "XYSucqPiRGSl"
      }
    },
    {
      "cell_type": "code",
      "source": [
        "mat.ndim"
      ],
      "metadata": {
        "colab": {
          "base_uri": "https://localhost:8080/"
        },
        "id": "eQKeFABBRDO0",
        "outputId": "d08bac62-ec9b-4639-e4ef-cad41ecac121"
      },
      "execution_count": 12,
      "outputs": [
        {
          "output_type": "execute_result",
          "data": {
            "text/plain": [
              "2"
            ]
          },
          "metadata": {},
          "execution_count": 12
        }
      ]
    },
    {
      "cell_type": "code",
      "source": [],
      "metadata": {
        "id": "IOXxwwFfRFfj"
      },
      "execution_count": null,
      "outputs": []
    }
  ]
}